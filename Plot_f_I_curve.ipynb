{
  "nbformat": 4,
  "nbformat_minor": 0,
  "metadata": {
    "colab": {
      "name": "Plot f-I curve.ipynb",
      "provenance": [],
      "authorship_tag": "ABX9TyNBQ5UBLXZE2WGTb9RUpE7p",
      "include_colab_link": true
    },
    "kernelspec": {
      "name": "python3",
      "display_name": "Python 3"
    }
  },
  "cells": [
    {
      "cell_type": "markdown",
      "metadata": {
        "id": "view-in-github",
        "colab_type": "text"
      },
      "source": [
        "<a href=\"https://colab.research.google.com/github/Deepti-1027/Neuural_Cognitive_Modeling/blob/master/Plot_f_I_curve.ipynb\" target=\"_parent\"><img src=\"https://colab.research.google.com/assets/colab-badge.svg\" alt=\"Open In Colab\"/></a>"
      ]
    },
    {
      "cell_type": "code",
      "metadata": {
        "id": "X4SRAfd405id",
        "colab_type": "code",
        "colab": {
          "base_uri": "https://localhost:8080/",
          "height": 880
        },
        "outputId": "cfac9e0f-d22e-40e6-9bb8-4473f1e23f1e"
      },
      "source": [
        "!pip3 install brian2\n",
        "!pip3 install --upgrade neurodynex3"
      ],
      "execution_count": 47,
      "outputs": [
        {
          "output_type": "stream",
          "text": [
            "Requirement already satisfied: brian2 in /usr/local/lib/python3.6/dist-packages (2.3.0.2)\n",
            "Requirement already satisfied: setuptools>=24 in /usr/local/lib/python3.6/dist-packages (from brian2) (49.6.0)\n",
            "Requirement already satisfied: cython>=0.29 in /usr/local/lib/python3.6/dist-packages (from brian2) (0.29.21)\n",
            "Requirement already satisfied: sympy>=1.2 in /usr/local/lib/python3.6/dist-packages (from brian2) (1.6.2)\n",
            "Requirement already satisfied: jinja2>=2.7 in /usr/local/lib/python3.6/dist-packages (from brian2) (2.11.2)\n",
            "Requirement already satisfied: pyparsing in /usr/local/lib/python3.6/dist-packages (from brian2) (2.4.7)\n",
            "Requirement already satisfied: future in /usr/local/lib/python3.6/dist-packages (from brian2) (0.16.0)\n",
            "Requirement already satisfied: numpy>=1.10 in /usr/local/lib/python3.6/dist-packages (from brian2) (1.18.5)\n",
            "Requirement already satisfied: mpmath>=0.19 in /usr/local/lib/python3.6/dist-packages (from sympy>=1.2->brian2) (1.1.0)\n",
            "Requirement already satisfied: MarkupSafe>=0.23 in /usr/local/lib/python3.6/dist-packages (from jinja2>=2.7->brian2) (1.1.1)\n",
            "Requirement already up-to-date: neurodynex3 in /usr/local/lib/python3.6/dist-packages (1.0.1)\n",
            "Requirement already satisfied, skipping upgrade: nose in /usr/local/lib/python3.6/dist-packages (from neurodynex3) (1.3.7)\n",
            "Requirement already satisfied, skipping upgrade: mock in /usr/local/lib/python3.6/dist-packages (from neurodynex3) (4.0.2)\n",
            "Requirement already satisfied, skipping upgrade: setuptools in /usr/local/lib/python3.6/dist-packages (from neurodynex3) (49.6.0)\n",
            "Requirement already satisfied, skipping upgrade: setuptools-scm in /usr/local/lib/python3.6/dist-packages (from neurodynex3) (4.1.2)\n",
            "Requirement already satisfied, skipping upgrade: brian2>=2.0 in /usr/local/lib/python3.6/dist-packages (from neurodynex3) (2.3.0.2)\n",
            "Requirement already satisfied, skipping upgrade: mpmath in /usr/local/lib/python3.6/dist-packages (from neurodynex3) (1.1.0)\n",
            "Requirement already satisfied, skipping upgrade: matplotlib in /usr/local/lib/python3.6/dist-packages (from neurodynex3) (3.2.2)\n",
            "Requirement already satisfied, skipping upgrade: scipy in /usr/local/lib/python3.6/dist-packages (from neurodynex3) (1.4.1)\n",
            "Requirement already satisfied, skipping upgrade: cython>=0.29 in /usr/local/lib/python3.6/dist-packages (from brian2>=2.0->neurodynex3) (0.29.21)\n",
            "Requirement already satisfied, skipping upgrade: future in /usr/local/lib/python3.6/dist-packages (from brian2>=2.0->neurodynex3) (0.16.0)\n",
            "Requirement already satisfied, skipping upgrade: pyparsing in /usr/local/lib/python3.6/dist-packages (from brian2>=2.0->neurodynex3) (2.4.7)\n",
            "Requirement already satisfied, skipping upgrade: sympy>=1.2 in /usr/local/lib/python3.6/dist-packages (from brian2>=2.0->neurodynex3) (1.6.2)\n",
            "Requirement already satisfied, skipping upgrade: jinja2>=2.7 in /usr/local/lib/python3.6/dist-packages (from brian2>=2.0->neurodynex3) (2.11.2)\n",
            "Requirement already satisfied, skipping upgrade: numpy>=1.10 in /usr/local/lib/python3.6/dist-packages (from brian2>=2.0->neurodynex3) (1.18.5)\n",
            "Requirement already satisfied, skipping upgrade: cycler>=0.10 in /usr/local/lib/python3.6/dist-packages (from matplotlib->neurodynex3) (0.10.0)\n",
            "Requirement already satisfied, skipping upgrade: python-dateutil>=2.1 in /usr/local/lib/python3.6/dist-packages (from matplotlib->neurodynex3) (2.8.1)\n",
            "Requirement already satisfied, skipping upgrade: kiwisolver>=1.0.1 in /usr/local/lib/python3.6/dist-packages (from matplotlib->neurodynex3) (1.2.0)\n",
            "Requirement already satisfied, skipping upgrade: MarkupSafe>=0.23 in /usr/local/lib/python3.6/dist-packages (from jinja2>=2.7->brian2>=2.0->neurodynex3) (1.1.1)\n",
            "Requirement already satisfied, skipping upgrade: six in /usr/local/lib/python3.6/dist-packages (from cycler>=0.10->matplotlib->neurodynex3) (1.15.0)\n",
            "Requirement already up-to-date: neurodynex in /usr/local/lib/python3.6/dist-packages (0.3.4)\n",
            "Requirement already satisfied, skipping upgrade: scipy in /usr/local/lib/python3.6/dist-packages (from neurodynex) (1.4.1)\n",
            "Requirement already satisfied, skipping upgrade: matplotlib in /usr/local/lib/python3.6/dist-packages (from neurodynex) (3.2.2)\n",
            "Requirement already satisfied, skipping upgrade: numpy in /usr/local/lib/python3.6/dist-packages (from neurodynex) (1.18.5)\n",
            "Requirement already satisfied, skipping upgrade: brian2>=2.0 in /usr/local/lib/python3.6/dist-packages (from neurodynex) (2.3.0.2)\n",
            "Requirement already satisfied, skipping upgrade: kiwisolver>=1.0.1 in /usr/local/lib/python3.6/dist-packages (from matplotlib->neurodynex) (1.2.0)\n",
            "Requirement already satisfied, skipping upgrade: cycler>=0.10 in /usr/local/lib/python3.6/dist-packages (from matplotlib->neurodynex) (0.10.0)\n",
            "Requirement already satisfied, skipping upgrade: pyparsing!=2.0.4,!=2.1.2,!=2.1.6,>=2.0.1 in /usr/local/lib/python3.6/dist-packages (from matplotlib->neurodynex) (2.4.7)\n",
            "Requirement already satisfied, skipping upgrade: python-dateutil>=2.1 in /usr/local/lib/python3.6/dist-packages (from matplotlib->neurodynex) (2.8.1)\n",
            "Requirement already satisfied, skipping upgrade: future in /usr/local/lib/python3.6/dist-packages (from brian2>=2.0->neurodynex) (0.16.0)\n",
            "Requirement already satisfied, skipping upgrade: cython>=0.29 in /usr/local/lib/python3.6/dist-packages (from brian2>=2.0->neurodynex) (0.29.21)\n",
            "Requirement already satisfied, skipping upgrade: setuptools>=24 in /usr/local/lib/python3.6/dist-packages (from brian2>=2.0->neurodynex) (49.6.0)\n",
            "Requirement already satisfied, skipping upgrade: sympy>=1.2 in /usr/local/lib/python3.6/dist-packages (from brian2>=2.0->neurodynex) (1.6.2)\n",
            "Requirement already satisfied, skipping upgrade: jinja2>=2.7 in /usr/local/lib/python3.6/dist-packages (from brian2>=2.0->neurodynex) (2.11.2)\n",
            "Requirement already satisfied, skipping upgrade: six in /usr/local/lib/python3.6/dist-packages (from cycler>=0.10->matplotlib->neurodynex) (1.15.0)\n",
            "Requirement already satisfied, skipping upgrade: mpmath>=0.19 in /usr/local/lib/python3.6/dist-packages (from sympy>=1.2->brian2>=2.0->neurodynex) (1.1.0)\n",
            "Requirement already satisfied, skipping upgrade: MarkupSafe>=0.23 in /usr/local/lib/python3.6/dist-packages (from jinja2>=2.7->brian2>=2.0->neurodynex) (1.1.1)\n"
          ],
          "name": "stdout"
        }
      ]
    },
    {
      "cell_type": "code",
      "metadata": {
        "id": "PEWzWW1a3IQI",
        "colab_type": "code",
        "colab": {}
      },
      "source": [
        "\n",
        "%%capture\n",
        "%matplotlib inline\n",
        "import brian2 as b2\n",
        "import matplotlib.pyplot as plt\n",
        "import numpy as np\n",
        "from neurodynex3.leaky_integrate_and_fire import LIF\n",
        "from neurodynex3.tools import input_factory, plot_tools\n",
        "import random"
      ],
      "execution_count": 2,
      "outputs": []
    },
    {
      "cell_type": "markdown",
      "metadata": {
        "id": "TVFJEZKt3xg2",
        "colab_type": "text"
      },
      "source": [
        "\n",
        "## What is f-I Curve ??\n",
        "\n",
        "For a constant input current I, a LIF neuron fires regularly with firing frequency f. If the current is to small (I < I_min) f is 0Hz; for larger I the rate increases. A neuron's firing-rate versus input-amplitude relationship is visualized in an \"f-I curve\".\n"
      ]
    },
    {
      "cell_type": "markdown",
      "metadata": {
        "id": "iPmw59_B5TUL",
        "colab_type": "text"
      },
      "source": [
        "## Draw the F-I curve for the Given Parameter :\n",
        "\n",
        "\n",
        "**Resting potential = -70 mV,**     ## Urest\n",
        "\n",
        "**Firing threshold = -45 mV,**      ## this is Theta\n",
        "\n",
        "**Membrane time constant = 15 ms,**   ##this is tau\n",
        "\n",
        "**Membrane resistance = 40 * 10^6Ω.**    ## this is R"
      ]
    },
    {
      "cell_type": "code",
      "metadata": {
        "id": "XrNsl_dJA_vj",
        "colab_type": "code",
        "colab": {}
      },
      "source": [
        "V_REST = -70 * b2.mV                 # Resting potential\n",
        "V_RESET = -65 * b2.mV\n",
        "FIRING_THRESHOLD = -45 * b2.mV        #firing threshold\n",
        "MEMBRANE_RESISTANCE = 40. * b2.Mohm   #Membrane resistace\n",
        "MEMBRANE_TIME_SCALE = 15. * b2.ms   #Membrane time constant\n",
        "ABSOLUTE_REFRACTORY_PERIOD = 3 * b2.ms"
      ],
      "execution_count": 3,
      "outputs": []
    },
    {
      "cell_type": "markdown",
      "metadata": {
        "id": "JaCcEmfmY3US",
        "colab_type": "text"
      },
      "source": [
        "## Relationship between F and I:\n",
        "\n",
        "\\begin{equation} \n",
        "F = {(1/\\tau)}*{1/ln[RI/(RI-\\theta+urest)]} \n",
        "\\end{equation} "
      ]
    },
    {
      "cell_type": "code",
      "metadata": {
        "id": "S0OTQ9TseaMP",
        "colab_type": "code",
        "colab": {}
      },
      "source": [
        "def simulate_LIF_neuron(input_current,simulation_time=5 * b2.ms,v_rest=V_REST,v_reset=V_RESET,firing_threshold=FIRING_THRESHOLD,membrane_resistance=MEMBRANE_RESISTANCE,membrane_time_scale=MEMBRANE_TIME_SCALE,\n",
        "                        abs_refractory_period=ABSOLUTE_REFRACTORY_PERIOD):\n",
        "                        \n",
        "    eqs = \"\"\" dv/dt = ( -(v-v_rest) + membrane_resistance * input_current(t,i) ) / membrane_time_scale : volt (unless refractory)\"\"\"\n",
        "\n",
        "    neuron = b2.NeuronGroup(1, model=eqs, reset=\"v=v_reset\", threshold=\"v>firing_threshold\",refractory=abs_refractory_period, method=\"linear\")\n",
        "    neuron.v = v_rest  # set initial value\n",
        "    state_monitor = b2.StateMonitor(neuron, [\"v\"], record=True)\n",
        "    spike_monitor = b2.SpikeMonitor(neuron)\n",
        "    # run the simulation\n",
        "    b2.run(simulation_time)\n",
        "    return state_monitor, spike_monitor\n",
        "\n"
      ],
      "execution_count": 4,
      "outputs": []
    },
    {
      "cell_type": "code",
      "metadata": {
        "id": "4kWuPstTe4E7",
        "colab_type": "code",
        "colab": {}
      },
      "source": [
        "def getting_started():\n",
        "    current_amp_list = np.arange(0, 5, 0.2)\n",
        "    # store firing rates\n",
        "    firing_rate_record = list()\n",
        "    for current_amp in current_amp_list:\n",
        "        # create step current\n",
        "        step_current = input_factory.get_step_current(t_start=5, t_end=200, unit_time=b2.ms,amplitude = current_amp * b2.mA)\n",
        "        # run simulation\n",
        "        state_monitor, spike_monitor = simulate_LIF_neuron(input_current=step_current, simulation_time=125*b2.ms , abs_refractory_period = ABSOLUTE_REFRACTORY_PERIOD)\n",
        "        # get the number of spikes\n",
        "        spike_count = spike_monitor.count[0]\n",
        "        # conver that to firing rate\n",
        "        firing_rate = spike_count\n",
        "        firing_rate_record.append(firing_rate)\n",
        "    plt.figure()\n",
        "    plt.plot(current_amp_list, firing_rate_record)\n",
        "    plt.xlabel('Current (mA)')\n",
        "    plt.ylabel('Firing rate (Hz)')\n",
        "    plt.title('F-I Curve')\n",
        "    plt.show()\n"
      ],
      "execution_count": 17,
      "outputs": []
    },
    {
      "cell_type": "code",
      "metadata": {
        "id": "ZZSSscpXe8_l",
        "colab_type": "code",
        "colab": {
          "base_uri": "https://localhost:8080/",
          "height": 295
        },
        "outputId": "83fa644b-3af7-4a1e-8f65-cbf738b46634"
      },
      "source": [
        "if __name__ == \"__main__\":\n",
        "    getting_started()"
      ],
      "execution_count": 18,
      "outputs": [
        {
          "output_type": "display_data",
          "data": {
            "image/png": "[encoded data removed]",
            "text/plain": [
              "<Figure size 432x288 with 1 Axes>"
            ]
          },
          "metadata": {
            "tags": [],
            "needs_background": "light"
          }
        }
      ]
    },
    {
      "cell_type": "code",
      "metadata": {
        "id": "visBBXM3e5nD",
        "colab_type": "code",
        "colab": {}
      },
      "source": [
        ""
      ],
      "execution_count": null,
      "outputs": []
    }
  ]
}